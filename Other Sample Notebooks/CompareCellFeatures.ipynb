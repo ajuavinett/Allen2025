{
 "cells": [
  {
   "cell_type": "markdown",
   "metadata": {},
   "source": [
    "# Comparing the electrophysiological features of cells\n",
    "\n",
    "We've talked about various membrane properties like resistance and capacitance, but how do these actually play out in real cells, which are morphologically diverse?\n",
    "\n",
    "![](https://www.nei.nih.gov/sites/default/files/styles/large/public/2020-12/Tolias-creditNatureBCM.png?itok=hFaeE112)\n",
    "\n",
    "<small>Image from https://www.nei.nih.gov/about/news-and-events/news/tree-cortical-cell-types-describes-diversity-neurons-brain</small>\n",
    "\n",
    "This notebook will load and plot a dataset with various features for mouse or human cells that were curated from the [Allen Cell Types](https://celltypes.brain-map.org/) database. By doing so, we'll be able to test our hypothesis about the relationship between different electrophysiological features of cells, such as their surface area, rheobase, time constant, and input resistance.\n",
    "<hr>"
   ]
  },
  {
   "cell_type": "markdown",
   "metadata": {},
   "source": [
    "### Table of contents\n",
    "- [Setup](#setup)\n",
    "- [Load the dataset](#load)\n",
    "- [Compare all features](#overview)\n",
    "- [Focus on features to compare](#compare)"
   ]
  },
  {
   "cell_type": "markdown",
   "metadata": {},
   "source": [
    "<a id=\"setup\"></a>\n",
    "## Setup\n",
    "\n",
    "First, we need to import a variety of plotting and scientific computing packages.\n",
    "><b>Task</b>: Run the cell below."
   ]
  },
  {
   "cell_type": "code",
   "execution_count": 1,
   "metadata": {},
   "outputs": [
    {
     "ename": "ModuleNotFoundError",
     "evalue": "No module named 'seaborn'",
     "output_type": "error",
     "traceback": [
      "\u001b[0;31m---------------------------------------------------------------------------\u001b[0m",
      "\u001b[0;31mModuleNotFoundError\u001b[0m                       Traceback (most recent call last)",
      "Cell \u001b[0;32mIn[1], line 4\u001b[0m\n\u001b[1;32m      2\u001b[0m \u001b[38;5;28;01mimport\u001b[39;00m\u001b[38;5;250m \u001b[39m\u001b[38;5;21;01mmatplotlib\u001b[39;00m\u001b[38;5;250m \u001b[39m\u001b[38;5;28;01mas\u001b[39;00m\u001b[38;5;250m \u001b[39m\u001b[38;5;21;01mmpl\u001b[39;00m\n\u001b[1;32m      3\u001b[0m \u001b[38;5;28;01mimport\u001b[39;00m\u001b[38;5;250m \u001b[39m\u001b[38;5;21;01mmatplotlib\u001b[39;00m\u001b[38;5;21;01m.\u001b[39;00m\u001b[38;5;21;01mpyplot\u001b[39;00m\u001b[38;5;250m \u001b[39m\u001b[38;5;28;01mas\u001b[39;00m\u001b[38;5;250m \u001b[39m\u001b[38;5;21;01mplt\u001b[39;00m\n\u001b[0;32m----> 4\u001b[0m \u001b[38;5;28;01mimport\u001b[39;00m\u001b[38;5;250m \u001b[39m\u001b[38;5;21;01mseaborn\u001b[39;00m\u001b[38;5;250m \u001b[39m\u001b[38;5;28;01mas\u001b[39;00m\u001b[38;5;250m \u001b[39m\u001b[38;5;21;01msns\u001b[39;00m\n\u001b[1;32m      6\u001b[0m \u001b[38;5;66;03m# Import pandas and numpy for working with databases\u001b[39;00m\n\u001b[1;32m      7\u001b[0m \u001b[38;5;28;01mimport\u001b[39;00m\u001b[38;5;250m \u001b[39m\u001b[38;5;21;01mpandas\u001b[39;00m\u001b[38;5;250m \u001b[39m\u001b[38;5;28;01mas\u001b[39;00m\u001b[38;5;250m \u001b[39m\u001b[38;5;21;01mpd\u001b[39;00m\n",
      "\u001b[0;31mModuleNotFoundError\u001b[0m: No module named 'seaborn'"
     ]
    }
   ],
   "source": [
    "# Import plotting packages\n",
    "import matplotlib.pyplot as plt\n",
    "import seaborn as sns\n",
    "\n",
    "# Import pandas and numpy for working with databases\n",
    "import pandas as pd\n",
    "import numpy as np\n",
    "import urllib.request # Import urllib for obtaining data\n",
    "from scipy import stats\n",
    "\n",
    "print('Packages imported.')"
   ]
  },
  {
   "cell_type": "markdown",
   "metadata": {},
   "source": [
    "<a id=\"load\"></a>\n",
    "## Load the dataset\n",
    "><b>Task</b>: Choose to work with the mice or human dataset by uncommenting (removing the `#`) from one of the `dataset` lines below. Then, run the cell."
   ]
  },
  {
   "cell_type": "code",
   "execution_count": 3,
   "metadata": {},
   "outputs": [
    {
     "name": "stdout",
     "output_type": "stream",
     "text": [
      "Number of cells: 156\n"
     ]
    },
    {
     "data": {
      "text/html": [
       "<div>\n",
       "<style scoped>\n",
       "    .dataframe tbody tr th:only-of-type {\n",
       "        vertical-align: middle;\n",
       "    }\n",
       "\n",
       "    .dataframe tbody tr th {\n",
       "        vertical-align: top;\n",
       "    }\n",
       "\n",
       "    .dataframe thead th {\n",
       "        text-align: right;\n",
       "    }\n",
       "</style>\n",
       "<table border=\"1\" class=\"dataframe\">\n",
       "  <thead>\n",
       "    <tr style=\"text-align: right;\">\n",
       "      <th></th>\n",
       "      <th>cell_surface_area</th>\n",
       "      <th>dendrite_type</th>\n",
       "      <th>rheobase</th>\n",
       "      <th>input_resistance</th>\n",
       "      <th>tau</th>\n",
       "    </tr>\n",
       "  </thead>\n",
       "  <tbody>\n",
       "    <tr>\n",
       "      <th>0</th>\n",
       "      <td>497.493364</td>\n",
       "      <td>spiny</td>\n",
       "      <td>129.999997</td>\n",
       "      <td>66.745424</td>\n",
       "      <td>50.049031</td>\n",
       "    </tr>\n",
       "    <tr>\n",
       "      <th>1</th>\n",
       "      <td>803.463769</td>\n",
       "      <td>aspiny</td>\n",
       "      <td>210.000003</td>\n",
       "      <td>126.099720</td>\n",
       "      <td>7.177321</td>\n",
       "    </tr>\n",
       "    <tr>\n",
       "      <th>2</th>\n",
       "      <td>294.496426</td>\n",
       "      <td>spiny</td>\n",
       "      <td>129.999997</td>\n",
       "      <td>310.081920</td>\n",
       "      <td>14.055187</td>\n",
       "    </tr>\n",
       "    <tr>\n",
       "      <th>3</th>\n",
       "      <td>590.989132</td>\n",
       "      <td>aspiny</td>\n",
       "      <td>69.999999</td>\n",
       "      <td>208.228560</td>\n",
       "      <td>18.539072</td>\n",
       "    </tr>\n",
       "    <tr>\n",
       "      <th>4</th>\n",
       "      <td>886.070983</td>\n",
       "      <td>aspiny</td>\n",
       "      <td>289.999996</td>\n",
       "      <td>139.217248</td>\n",
       "      <td>5.725947</td>\n",
       "    </tr>\n",
       "  </tbody>\n",
       "</table>\n",
       "</div>"
      ],
      "text/plain": [
       "   cell_surface_area dendrite_type    rheobase  input_resistance        tau\n",
       "0         497.493364         spiny  129.999997         66.745424  50.049031\n",
       "1         803.463769        aspiny  210.000003        126.099720   7.177321\n",
       "2         294.496426         spiny  129.999997        310.081920  14.055187\n",
       "3         590.989132        aspiny   69.999999        208.228560  18.539072\n",
       "4         886.070983        aspiny  289.999996        139.217248   5.725947"
      ]
     },
     "execution_count": 3,
     "metadata": {},
     "output_type": "execute_result"
    }
   ],
   "source": [
    "# Uncomment one of the lines below!\n",
    "dataset = 'human_cell_metrics.csv'\n",
    "#dataset = 'mouse_cell_metrics.csv'\n",
    "\n",
    "# Permalink from github page where this data lives\n",
    "github_url = 'https://github.com/ajuavinett/Allen2025/blob/fa2ffbbcfe09d609db059defc89b39e91b3da117/Data/'\n",
    "data_url = github_url + dataset + '?raw=true'\n",
    "path, headers = urllib.request.urlretrieve(data_url, './human_cell_metrics.csv')\n",
    "\n",
    "dataset = pd.read_csv(path)\n",
    "\n",
    "print('Number of cells: ' + str(len(dataset)))\n",
    "\n",
    "# Show the first five rows of the dataset\n",
    "dataset.head()"
   ]
  },
  {
   "cell_type": "markdown",
   "metadata": {},
   "source": [
    "<a id=\"focus\"></a>\n",
    "## Focus on features to compare\n",
    "As you can see in the first five rows of the dataset above, this dataset contains observations about the following features:\n",
    "- (estimated) cell surface area (in µm^2)\n",
    "- dendrite type (spiny, aspiny, or sparsely spiny)\n",
    "- rheobase (in nA)\n",
    "- input resistance (in MOhms)\n",
    "- tau (in ms)\n",
    "\n",
    "Each row of the dataset contains all of these features for individual cells. Let's see if any of these features are related. In fact, chances are you have an <i>a priori</i> hypothesis about the relationship between two of these features, based on what we've talked about in class.\n",
    "\n",
    "To easily generate a plot of two variables, we can use [matplotlib's scatterplot function](https://matplotlib.org/api/_as_gen/matplotlib.pyplot.scatter.html). We're going to refer to each of the columns in the Pandas dataframe using the syntax `dataframe['COLUMN']`.\n",
    "\n",
    "><b>Task</b>: Create a plot of <b>two</b> different metrics above by substituting the feature for the <i>exact</i> name of the column in the data for the feature you'd like to investigate. The spelling needs to be exact in order for it to work -- <code>cell_surface_features</code> is not the same thing as <code>cell surface features</code>. For some of these comparisons, it may be most useful to plot the comparisons on a log scale."
   ]
  },
  {
   "cell_type": "code",
   "execution_count": 9,
   "metadata": {},
   "outputs": [
    {
     "data": {
      "image/png": "[encoded data removed]",
      "text/plain": [
       "<Figure size 360x360 with 1 Axes>"
      ]
     },
     "metadata": {
      "image/png": {
       "height": 316,
       "width": 326
      },
      "needs_background": "light"
     },
     "output_type": "display_data"
    }
   ],
   "source": [
    "# Choose features to compare\n",
    "x = dataset['cell_surface_area']\n",
    "y = dataset['input_resistance']\n",
    "\n",
    "# Perform linear regression\n",
    "slope, intercept, r_value, p_value, std_err = stats.linregress(x,y)\n",
    "\n",
    "# Plot regression line, using the slope & intercept\n",
    "fig = plt.figure(figsize=(5,5))\n",
    "plt.plot(x, slope*x+intercept, color='gray',label='fitted line')\n",
    "\n",
    "# Plot our original data points and show\n",
    "plt.scatter(x,y,label='original data')\n",
    "plt.legend()\n",
    "\n",
    "# Add axes labels here\n",
    "\n",
    "\n",
    "plt.show()"
   ]
  },
  {
   "cell_type": "markdown",
   "metadata": {},
   "source": [
    "><b>Task</b>: Right click on your figure to save it as \"cell_features_comparison.png\". Make sure your graph has clearly labeled axes with units. You can add `plt.xlabel('YOUR LABEL')` and `plt.yabel('YOUR LABEL')` under `# Add axes labels here` to do so."
   ]
  },
  {
   "cell_type": "markdown",
   "metadata": {},
   "source": [
    "## What's happening with the \"linear regression\" above?\n",
    "If we have an a priori hypothesis about the relationship between our variables, or would like to predict additional data points, we can attempt to fit a linear regression line to our data. To do so, we do the following:\n",
    "\n",
    "1. Perform a linear regression using `linregress()` from the `stats` library. The [`linregress()`](https://docs.scipy.org/doc/scipy/reference/generated/scipy.stats.linregress.html) function calculates a **linear least-squares regression** for two sets of measurements. It returns several parameters, including the slope (`slope`), the y-intercept (`intercept`), the correlation coefficient (`r_value`), the two-tailed p-value (`p_value`), and the standard error of the estimate (`std_err`).\n",
    "2. Plot the regression line, using the computed slope and intercept to construct it (mx+b).\n",
    "3. Plot the original data points.\n",
    "\n",
    "It is also a good idea to print the computed statistics from our linear regression above. These are contained in `r_value` and `p_value`:\n",
    "\n",
    "* `r_value`: This is the Pearson correlation coefficient. It measures the strength and direction of the linear relationship between the two variables. It ranges from -1 to 1, where a value of -1 indicates a strong negative linear relationship, a value of 0 indicates no linear relationship, and a value of 1 indicates a strong positive linear relationship.\n",
    "* `p_value`: The p-value for a hypothesis test whose null hypothesis is that the slope is zero (in other words, that there is no relationship between x and y. A smaller p value (we typically use a 0.05 cutoff) suggests that it is unlikely the slope is zero.\n",
    "\n",
    "It can also be helpful to look at `std_err`: the standard error of the estimate. It represents the standard deviation of the residuals (the differences between the observed y values and the predicted y values). A small standard error indicates that the fitted line is a good fit for the data.\n",
    "\n",
    "> **Task**: Print your values for `r_value`,`p_value`, and `std_err` in the cell below by replacing the `...` with the value you'd like to print. You can list multiple values in one print statement (e.g., `print(a,b,c,)`) or have multiple print lines."
   ]
  },
  {
   "cell_type": "code",
   "execution_count": null,
   "metadata": {},
   "outputs": [],
   "source": [
    "print(...)"
   ]
  },
  {
   "cell_type": "markdown",
   "metadata": {},
   "source": [
    "<a id=\"overview\"></a>\n",
    "## Compare all of the features in this dataset\n",
    "\n",
    "We have lots of features to look at -- thankfully, there are fun data science visualization tools to let us look at them all together.\n",
    "\n",
    "Below, we'll use a really handy tool from Seaborn called [pairplot](https://seaborn.pydata.org/generated/seaborn.pairplot.html) which will plot a grid of all of these cell features against eachother. It will also show us a histogram of values for each of the features -- an important first step of working with any data.\n",
    "\n",
    "><b>Task</b>: Run the cell below! It may take a few seconds to run. You can uncomment the line that says <code>set(xscale='log')</code> if you'd like to see what this looks like on a log scale."
   ]
  },
  {
   "cell_type": "code",
   "execution_count": null,
   "metadata": {},
   "outputs": [],
   "source": [
    "pairplot = sns.pairplot(dataset,height=2)\n",
    "#pairplot.set(xscale='log',yscale='log') # this changes both x and y scale to log\n",
    "plt.show()"
   ]
  },
  {
   "cell_type": "markdown",
   "metadata": {},
   "source": [
    "### Site note: What does log-scaling mean?\n",
    "\n",
    "The four-by-four figure that is produced above shows many potentially interesting relationships between these cell features! The relationship between features is even more clear when we plot the axes on a log-scale. Why is this?\n",
    "\n",
    "To understand why this is, let's develop our intuition for what log-scaling even means. First, we'll create a list of 10 numbers, from 1 to 10, evenly spaced by one."
   ]
  },
  {
   "cell_type": "code",
   "execution_count": null,
   "metadata": {
    "scrolled": true
   },
   "outputs": [],
   "source": [
    "x = np.arange(1,11,1) # Use np.arange() to create a simple list\n",
    "print(x)"
   ]
  },
  {
   "cell_type": "markdown",
   "metadata": {},
   "source": [
    "><b>Task</b>: Use this list <code>x</code> to create <code>y</code> which is composed of 2^ each value in <code>x</code>. You can write this as `2**x`. In other words, we're making a list of exponentially increasing values. In other, other words, the values increase by an *order of magnitude*. Print your list of y values so that you can see what you've created."
   ]
  },
  {
   "cell_type": "code",
   "execution_count": null,
   "metadata": {},
   "outputs": [],
   "source": [
    "y = ..."
   ]
  },
  {
   "cell_type": "markdown",
   "metadata": {},
   "source": [
    "><b>Task</b>: Plot these vectors we just created using <code>plt.plot(x,y,marker='.')</code> in the cell below. Don't forget to add <code>plt.show()</code> to cleanly show just the plot.\n"
   ]
  },
  {
   "cell_type": "code",
   "execution_count": null,
   "metadata": {},
   "outputs": [],
   "source": [
    "# Add your plot here!\n"
   ]
  },
  {
   "cell_type": "markdown",
   "metadata": {},
   "source": [
    "So, this is what our artificial data looks like when the data is plotted on a linear scale (1-10). What happens when we plot the data on a log scale, where each equally spaced tick mark actually increases by a factor of 10?\n",
    "\n",
    "><b>Task</b>: Since our y-scale is the one that rises exponentially, let's add <code>plt.yscale('log')</code> <i>before</i> <code>plt.show()</code> in the code block above so that the y-axis will be plotted on a log-scale. <b>How does this change the relationship between the variables in your plot?</b>\n",
    "\n",
    "For sets of data that change by orders of magnitude, log-scaled axes can help us more clearly see relationships between variables. For an in depth explanation of log scales, see this [Khan Academy Video](https://www.khanacademy.org/math/algebra-home/alg-exp-and-log/alg-logarithmic-scale/v/logarithmic-scale). For a consideration of *when* you should use log scales, see [this article](https://www.forbes.com/sites/naomirobbins/2012/01/19/when-should-i-use-logarithmic-scales-in-my-charts-and-graphs/#52b49d675e67)."
   ]
  },
  {
   "cell_type": "code",
   "execution_count": null,
   "metadata": {},
   "outputs": [],
   "source": [
    "from IPython.display import HTML\n",
    "HTML('<img src=\"https://media.giphy.com/media/l0MYt5jPR6QX5pnqM/giphy.gif\">')"
   ]
  }
 ],
 "metadata": {
  "kernelspec": {
   "display_name": "Python 3 (ipykernel)",
   "language": "python",
   "name": "python3"
  },
  "language_info": {
   "codemirror_mode": {
    "name": "ipython",
    "version": 3
   },
   "file_extension": ".py",
   "mimetype": "text/x-python",
   "name": "python",
   "nbconvert_exporter": "python",
   "pygments_lexer": "ipython3",
   "version": "3.12.2"
  }
 },
 "nbformat": 4,
 "nbformat_minor": 4
}
